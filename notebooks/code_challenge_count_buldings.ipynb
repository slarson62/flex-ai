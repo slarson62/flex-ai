{
 "cells": [
  {
   "cell_type": "code",
   "execution_count": 1,
   "id": "1ba66063-3c45-469e-9aa5-bb253c91b97f",
   "metadata": {
    "tags": []
   },
   "outputs": [],
   "source": [
    "data = [['B','B','B','E','B'],\n",
    "       ['B','E','E','E','B'],\n",
    "       ['E','E','E','E','B'],\n",
    "       ['B','B','B','E','B'],\n",
    "       ['E','B','B','E','B']]\n"
   ]
  },
  {
   "cell_type": "code",
   "execution_count": 2,
   "id": "22eb4636-41a5-4c76-9bf2-653585c5baa4",
   "metadata": {
    "tags": []
   },
   "outputs": [],
   "source": [
    "def search(data, loc, building_num, queue=[]):\n",
    "    h = len(data)\n",
    "    w = len(data[0])\n",
    "    while queue:\n",
    "        #up\n",
    "        up = loc[0]-1\n",
    "        if up > 0 and data[up][loc[1]]=='B':\n",
    "            queue.append((up,loc[1]))\n",
    "            data[up][loc[1]]=building_num\n",
    "\n",
    "        #right\n",
    "        right = loc[1]+1\n",
    "        if right < w and data[loc[0]][right]=='B':\n",
    "            queue.append((loc[0],right))\n",
    "            data[loc[0]][right]=building_num\n",
    "\n",
    "        #down\n",
    "        down = loc[0]+1\n",
    "        if down < h and data[down][loc[1]]=='B':\n",
    "            queue.append((down,loc[1]))\n",
    "            data[down][loc[1]]=building_num\n",
    "\n",
    "        #left\n",
    "        left = loc[1]-1\n",
    "        if left > 0 and data[loc[0]][left]=='B':\n",
    "            queue.append((loc[0],left))\n",
    "            data[loc[0]][left]=building_num\n",
    "\n",
    "        queue.pop(0)\n",
    "        if len(queue):\n",
    "            search(data,queue[0],building_num, queue)\n",
    "    return data\n",
    "    \n",
    "\n",
    "def countBuldings(data, building_num=0):\n",
    "                \n",
    "    for i, row in enumerate(data):\n",
    "        for j, col in enumerate(row):\n",
    "            if col == 'E':\n",
    "                data[i][j] = 0\n",
    "            if col == 'B':\n",
    "                if building_num == 0:\n",
    "                    building_num = 1\n",
    "                data[i][j] = building_num\n",
    "                # search and label\n",
    "                data = search(data, (i,j), building_num, queue=[(i,j)])\n",
    "                building_num+=1\n",
    "    print(data)\n",
    "    return max(max(x) for x in data)\n",
    "    "
   ]
  },
  {
   "cell_type": "code",
   "execution_count": 3,
   "id": "64426f07-61dd-4a05-bf15-c03522368073",
   "metadata": {
    "tags": []
   },
   "outputs": [
    {
     "name": "stdout",
     "output_type": "stream",
     "text": [
      "[[1, 1, 1, 0, 2], [1, 0, 0, 0, 2], [0, 0, 0, 0, 2], [3, 3, 3, 0, 2], [0, 3, 3, 0, 2]]\n"
     ]
    },
    {
     "data": {
      "text/plain": [
       "3"
      ]
     },
     "execution_count": 3,
     "metadata": {},
     "output_type": "execute_result"
    }
   ],
   "source": [
    "countBuldings(data)"
   ]
  },
  {
   "cell_type": "code",
   "execution_count": null,
   "id": "6f95846b-cede-41b8-beea-287aaf3c5448",
   "metadata": {},
   "outputs": [],
   "source": []
  }
 ],
 "metadata": {
  "kernelspec": {
   "display_name": "Python 3 (ipykernel)",
   "language": "python",
   "name": "python3"
  },
  "language_info": {
   "codemirror_mode": {
    "name": "ipython",
    "version": 3
   },
   "file_extension": ".py",
   "mimetype": "text/x-python",
   "name": "python",
   "nbconvert_exporter": "python",
   "pygments_lexer": "ipython3",
   "version": "3.10.9"
  }
 },
 "nbformat": 4,
 "nbformat_minor": 5
}
